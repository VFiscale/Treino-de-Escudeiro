{
  "nbformat": 4,
  "nbformat_minor": 0,
  "metadata": {
    "colab": {
      "provenance": [],
      "toc_visible": true,
      "include_colab_link": true
    },
    "kernelspec": {
      "name": "python3",
      "display_name": "Python 3"
    },
    "language_info": {
      "name": "python"
    }
  },
  "cells": [
    {
      "cell_type": "markdown",
      "metadata": {
        "id": "view-in-github",
        "colab_type": "text"
      },
      "source": [
        "<a href=\"https://colab.research.google.com/github/VFiscale/Treino-de-Escudeiro/blob/main/Untitled0.ipynb\" target=\"_parent\"><img src=\"https://colab.research.google.com/assets/colab-badge.svg\" alt=\"Open In Colab\"/></a>"
      ]
    },
    {
      "cell_type": "code",
      "execution_count": null,
      "metadata": {
        "id": "5QPxUH4A70Dk"
      },
      "outputs": [],
      "source": [
        "import pandas as pd"
      ]
    },
    {
      "cell_type": "markdown",
      "source": [
        "# **Análise das Eleições Presidênciais de 2022**\n",
        "\n",
        "**Objetivo:** analisar as bases de dados do TSE\n",
        "referêntes aos resultados das eleições presidênciais e dos doadores/financiadores de cada campanha, para descobrir os dez (10) maiores financiadores dos candidatos à governador, presidente e senador.\n",
        "\n",
        "\n",
        "---\n",
        "\n",
        "\n",
        "**PASSO A PASSO:**\n",
        "1. Baixar as bases de dados do TSE;\n",
        "2. Importar os dados;\n",
        "3. Juntar os dados;\n",
        "4. Encontrar os resultados do objetivo acima.\n",
        "\n",
        "\n",
        "\n",
        "\n"
      ],
      "metadata": {
        "id": "K7MfldGc_nHh"
      }
    },
    {
      "cell_type": "markdown",
      "source": [
        "# **1**"
      ],
      "metadata": {
        "id": "3DkP_4kJ_6-4"
      }
    },
    {
      "cell_type": "code",
      "source": [],
      "metadata": {
        "id": "3qiOwJP0BwWQ"
      },
      "execution_count": null,
      "outputs": []
    },
    {
      "cell_type": "code",
      "source": [],
      "metadata": {
        "id": "PTSrgslYB3-o"
      },
      "execution_count": null,
      "outputs": []
    }
  ]
}