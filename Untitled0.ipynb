{
  "nbformat": 4,
  "nbformat_minor": 0,
  "metadata": {
    "colab": {
      "provenance": [],
      "include_colab_link": true
    },
    "kernelspec": {
      "name": "python3",
      "display_name": "Python 3"
    },
    "language_info": {
      "name": "python"
    }
  },
  "cells": [
    {
      "cell_type": "markdown",
      "metadata": {
        "id": "view-in-github",
        "colab_type": "text"
      },
      "source": [
        "<a href=\"https://colab.research.google.com/github/VFiscale/Treino-de-Escudeiro/blob/main/Untitled0.ipynb\" target=\"_parent\"><img src=\"https://colab.research.google.com/assets/colab-badge.svg\" alt=\"Open In Colab\"/></a>"
      ]
    },
    {
      "cell_type": "markdown",
      "source": [
        "# **Análise das Eleições Presidênciais de 2022**\n",
        "\n",
        "**Objetivo:** analisar as bases de dados do TSE\n",
        "referêntes aos resultados das eleições presidênciais e dos doadores/financiadores de cada campanha, para descobrir os dez (10) maiores financiadores (bilionários) dos candidatos à governador, presidente e senador.\n",
        "\n",
        "**Fontes de dados:**\n",
        "- https://dadosabertos.tse.jus.br/dataset/dadosabertos-tse-jus-br-dataset-prestacao-de-contas-eleitorais-2022;\n",
        "- https://www.kaggle.com/datasets/roysouravcu/forbes-billionaires-of-2021.\n",
        "\n",
        "**DFs e Dicionário:**\n",
        "* https://drive.google.com/drive/folders/1rj9hWFYPSFA7e0CA8N4jzCHu6DjqISrT?usp=drive_link.\n",
        "\n",
        "---\n",
        "\n",
        "**PASSO A PASSO:**\n",
        "1. Baixar e carregar as tabelas;\n",
        "2. Concatenar as tabelas de doadores;\n",
        "3. Verificar se há bilionários entre os doadores dos candidatos criando uma intersecção entre os nomes nas tabelas de doadores que aparecem na tabela de bilionários também;\n",
        "4. Agrupar e ordenar uma nova tabela;\n",
        "5. Selecionar: `Nome do Bilionário|valor doação|candidato|cargo|estado`\n",
        "6. Disponibilizar o projeto no *GitHub*."
      ],
      "metadata": {
        "id": "K7MfldGc_nHh"
      }
    },
    {
      "cell_type": "markdown",
      "source": [
        "# Preparação da API"
      ],
      "metadata": {
        "id": "TkNxW8e48Rye"
      }
    },
    {
      "cell_type": "code",
      "execution_count": null,
      "metadata": {
        "id": "5QPxUH4A70Dk"
      },
      "outputs": [],
      "source": [
        "import pandas as pd"
      ]
    },
    {
      "cell_type": "markdown",
      "source": [
        "# **1**"
      ],
      "metadata": {
        "id": "3DkP_4kJ_6-4"
      }
    },
    {
      "cell_type": "code",
      "source": [
        "# Carregando as tabelas\n",
        "bilionarios = pd.read_csv('Billionaire.xls')\n",
        "doadores_sp = pd.read_csv('doador_2022_SP.csv', encoding='latin-1')\n",
        "doadores_rj = pd.read_csv('doador_2022_RJ.csv', encoding='latin-1')\n",
        "doadores_mg = pd.read_csv('doador_2022_MG.csv', encoding='latin-1')\n"
      ],
      "metadata": {
        "id": "2XbpYW16Kzi1"
      },
      "execution_count": null,
      "outputs": []
    },
    {
      "cell_type": "markdown",
      "source": [
        "#**2**"
      ],
      "metadata": {
        "id": "_3asJ1iEJ0f8"
      }
    },
    {
      "cell_type": "code",
      "source": [
        "#Concatenando as tabelas dos doadores\n",
        "doadores = pd.concat([doadores_sp, doadores_rj, doadores_mg], ignore_index=True)\n",
        "print(doadores.head())"
      ],
      "metadata": {
        "id": "E4Mxr9psJ_Q8"
      },
      "execution_count": null,
      "outputs": []
    },
    {
      "cell_type": "markdown",
      "source": [
        "#**3**"
      ],
      "metadata": {
        "id": "K_uS9uFehVwm"
      }
    },
    {
      "cell_type": "code",
      "source": [
        "# Verificando se alguns dos maiores bilionários do mundo estão entre os doadores através dos sobrenomes\n",
        "bilionarios_nome = set(bilionarios['Name'])\n",
        "doadores_nome = set(doadores['NM_DOADOR_ORIGINARIO'])\n",
        "sobrenomes_bilionarios = {nome.split()[-1] for nome in bilionarios_nome}\n",
        "sobrenomes_doadores = {nome.split()[-1] for nome in doadores_nome}\n",
        "bilionarios_doadores = sobrenomes_bilionarios.intersection(sobrenomes_doadores)\n",
        "print('\\nBilionarios que foram doadores nas eleiçoes de 2022:')\n",
        "print(bilionarios_doadores)"
      ],
      "metadata": {
        "id": "EKNKyDNONDIP"
      },
      "execution_count": null,
      "outputs": []
    },
    {
      "cell_type": "markdown",
      "source": [
        "#**4**"
      ],
      "metadata": {
        "id": "yPJ4BsdQjEYf"
      }
    },
    {
      "cell_type": "code",
      "source": [
        "# Agrupando por candidato, cargo e estado e calculando a soma das doações de cada bilionário\n",
        "doacoes_agrupadas = doadores_bilionarios.groupby(['SQ_PRESTADOR_DE_CONTAS', 'NM_TIPO_ELEICAO', 'SG_UF', 'Nome'])['VR_RECEITA'].sum().reset_index()"
      ],
      "metadata": {
        "id": "rchFOef6RgmF"
      },
      "execution_count": null,
      "outputs": []
    },
    {
      "cell_type": "code",
      "source": [
        "#Ordenando por candidato, cargo, estado e valor da doação\n",
        "doacoes_ordenadas = doacoes_agrupadas.sort_values(by=['SQ_PRESTADOR_DE_CONTAS', 'NM_TIPO_ELEICAO', 'SG_UF', 'VR_RECEITA'], ascending=[True, True, True, False])"
      ],
      "metadata": {
        "id": "Bz0wwDiASmr8"
      },
      "execution_count": null,
      "outputs": []
    },
    {
      "cell_type": "markdown",
      "source": [
        "#**5**"
      ],
      "metadata": {
        "id": "X7HamQwZjHvm"
      }
    },
    {
      "cell_type": "code",
      "source": [
        "# Selecionando os dez maiores doadores para cada candidato, cargo e estado\n",
        "top_10_doadores = doacoes_ordenadas.groupby(['SQ_PRESTADOR_DE_CONTAS', 'NM_TIPO_ELEICAO', 'SG_UF']).head(10)\n",
        "print(\"Dez maiores financiadores bilionários de cada candidato:\")\n",
        "print(top_10_financiadores)"
      ],
      "metadata": {
        "id": "-9ig15dfS0-9"
      },
      "execution_count": null,
      "outputs": []
    }
  ]
}