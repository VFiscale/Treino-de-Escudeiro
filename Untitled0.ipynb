{
  "nbformat": 4,
  "nbformat_minor": 0,
  "metadata": {
    "colab": {
      "provenance": [],
      "include_colab_link": true
    },
    "kernelspec": {
      "name": "python3",
      "display_name": "Python 3"
    },
    "language_info": {
      "name": "python"
    }
  },
  "cells": [
    {
      "cell_type": "markdown",
      "metadata": {
        "id": "view-in-github",
        "colab_type": "text"
      },
      "source": [
        "<a href=\"https://colab.research.google.com/github/VFiscale/Treino-de-Escudeiro/blob/main/Untitled0.ipynb\" target=\"_parent\"><img src=\"https://colab.research.google.com/assets/colab-badge.svg\" alt=\"Open In Colab\"/></a>"
      ]
    },
    {
      "cell_type": "markdown",
      "source": [
        "# Preparação da API"
      ],
      "metadata": {
        "id": "TkNxW8e48Rye"
      }
    },
    {
      "cell_type": "code",
      "execution_count": 5,
      "metadata": {
        "id": "5QPxUH4A70Dk"
      },
      "outputs": [],
      "source": [
        "import pandas as pd"
      ]
    },
    {
      "cell_type": "markdown",
      "source": [
        "# **Análise das Eleições Presidênciais de 2022**\n",
        "\n",
        "**Objetivo:** analisar as bases de dados do TSE\n",
        "referêntes aos resultados das eleições presidênciais e dos doadores/financiadores de cada campanha, para descobrir os dez (10) maiores financiadores (bilionários) dos candidatos à governador, presidente e senador.\n",
        "\n",
        "**Fontes de dados:**\n",
        "- https://dadosabertos.tse.jus.br/dataset/dadosabertos-tse-jus-br-dataset-prestacao-de-contas-eleitorais-2022;\n",
        "- https://www.kaggle.com/datasets/roysouravcu/forbes-billionaires-of-2021.\n",
        "\n",
        "**DFs e Dicionário:**\n",
        "* https://drive.google.com/drive/folders/1rj9hWFYPSFA7e0CA8N4jzCHu6DjqISrT?usp=drive_link.\n",
        "\n",
        "---\n",
        "\n",
        "**PASSO A PASSO:**\n",
        "1. Baixar e carregar as tabelas;\n",
        "2. Concatenar as tabelas de doadores;\n",
        "3. Verificar se há bilionários entre os doadores dos candidatos criando uma intersecção entre os nomes nas tabelas de doadores e dos bilionários;\n",
        "4. Criar um filtro para selecionar somente os bilionários que foram doadores na campanha e agrupar e ordenar a nova tabela filtrada;\n",
        "5. Selecionar: `Nome do Bilionário|valor doação|candidato|cargo|estado`\n",
        "6. Disponibilizar o projeto no *GitHub*."
      ],
      "metadata": {
        "id": "K7MfldGc_nHh"
      }
    },
    {
      "cell_type": "markdown",
      "source": [
        "# **1**"
      ],
      "metadata": {
        "id": "3DkP_4kJ_6-4"
      }
    },
    {
      "cell_type": "code",
      "source": [
        "# Carregando as tabelas\n",
        "bilionarios = pd.read_csv('Billionaire.xls')\n",
        "doadores_sp = pd.read_csv('doador_2022_SP.csv', encoding='latin-1')\n",
        "doadores_rj = pd.read_csv('doador_2022_RJ.csv', encoding='latin-1')\n",
        "doadores_mg = pd.read_csv('doador_2022_MG.csv', encoding='latin-1')\n"
      ],
      "metadata": {
        "id": "2XbpYW16Kzi1"
      },
      "execution_count": null,
      "outputs": []
    },
    {
      "cell_type": "markdown",
      "source": [
        "#**2**"
      ],
      "metadata": {
        "id": "_3asJ1iEJ0f8"
      }
    },
    {
      "cell_type": "code",
      "source": [
        "#Concatenando as tabelas dos doadores\n",
        "doadores = pd.concat([doadores_sp, doadores_rj, doadores_mg], ignore_index=True)\n",
        "print(doadores.head())"
      ],
      "metadata": {
        "id": "E4Mxr9psJ_Q8"
      },
      "execution_count": null,
      "outputs": []
    },
    {
      "cell_type": "markdown",
      "source": [
        "#**3**"
      ],
      "metadata": {
        "id": "K_uS9uFehVwm"
      }
    },
    {
      "cell_type": "code",
      "source": [
        "# Verificando se alguns dos maiores bilionários do mundo estão entre os doadores\n",
        "bilionarios_nome = set(bilionarios['Name'])\n",
        "doadores_nome = set(doadores['NM_DOADOR_ORIGINARIO'])\n",
        "bilionarios_doadores = bilionarios_nome.intersection(doadores_nome)\n",
        "print('\\nBilionarios que foram doadores nas eleiçoes de 2022:')\n",
        "print(bilionarios_doadores)"
      ],
      "metadata": {
        "colab": {
          "base_uri": "https://localhost:8080/",
          "height": 505
        },
        "id": "EKNKyDNONDIP",
        "outputId": "b338960b-0c8f-431b-b03e-3083ec127eae"
      },
      "execution_count": 33,
      "outputs": [
        {
          "output_type": "error",
          "ename": "KeyError",
          "evalue": "'NM_DOADOR_ORIGINARIO'",
          "traceback": [
            "\u001b[0;31m---------------------------------------------------------------------------\u001b[0m",
            "\u001b[0;31mKeyError\u001b[0m                                  Traceback (most recent call last)",
            "\u001b[0;32m/usr/local/lib/python3.10/dist-packages/pandas/core/indexes/base.py\u001b[0m in \u001b[0;36mget_loc\u001b[0;34m(self, key)\u001b[0m\n\u001b[1;32m   3652\u001b[0m         \u001b[0;32mtry\u001b[0m\u001b[0;34m:\u001b[0m\u001b[0;34m\u001b[0m\u001b[0;34m\u001b[0m\u001b[0m\n\u001b[0;32m-> 3653\u001b[0;31m             \u001b[0;32mreturn\u001b[0m \u001b[0mself\u001b[0m\u001b[0;34m.\u001b[0m\u001b[0m_engine\u001b[0m\u001b[0;34m.\u001b[0m\u001b[0mget_loc\u001b[0m\u001b[0;34m(\u001b[0m\u001b[0mcasted_key\u001b[0m\u001b[0;34m)\u001b[0m\u001b[0;34m\u001b[0m\u001b[0;34m\u001b[0m\u001b[0m\n\u001b[0m\u001b[1;32m   3654\u001b[0m         \u001b[0;32mexcept\u001b[0m \u001b[0mKeyError\u001b[0m \u001b[0;32mas\u001b[0m \u001b[0merr\u001b[0m\u001b[0;34m:\u001b[0m\u001b[0;34m\u001b[0m\u001b[0;34m\u001b[0m\u001b[0m\n",
            "\u001b[0;32m/usr/local/lib/python3.10/dist-packages/pandas/_libs/index.pyx\u001b[0m in \u001b[0;36mpandas._libs.index.IndexEngine.get_loc\u001b[0;34m()\u001b[0m\n",
            "\u001b[0;32m/usr/local/lib/python3.10/dist-packages/pandas/_libs/index.pyx\u001b[0m in \u001b[0;36mpandas._libs.index.IndexEngine.get_loc\u001b[0;34m()\u001b[0m\n",
            "\u001b[0;32mpandas/_libs/hashtable_class_helper.pxi\u001b[0m in \u001b[0;36mpandas._libs.hashtable.PyObjectHashTable.get_item\u001b[0;34m()\u001b[0m\n",
            "\u001b[0;32mpandas/_libs/hashtable_class_helper.pxi\u001b[0m in \u001b[0;36mpandas._libs.hashtable.PyObjectHashTable.get_item\u001b[0;34m()\u001b[0m\n",
            "\u001b[0;31mKeyError\u001b[0m: 'NM_DOADOR_ORIGINARIO'",
            "\nThe above exception was the direct cause of the following exception:\n",
            "\u001b[0;31mKeyError\u001b[0m                                  Traceback (most recent call last)",
            "\u001b[0;32m<ipython-input-33-ddef48e4078b>\u001b[0m in \u001b[0;36m<cell line: 3>\u001b[0;34m()\u001b[0m\n\u001b[1;32m      1\u001b[0m \u001b[0;31m# Verificando se alguns dos maiores bilionários do mundo estão entre os doadores\u001b[0m\u001b[0;34m\u001b[0m\u001b[0;34m\u001b[0m\u001b[0m\n\u001b[1;32m      2\u001b[0m \u001b[0mbilionarios_nome\u001b[0m \u001b[0;34m=\u001b[0m \u001b[0mset\u001b[0m\u001b[0;34m(\u001b[0m\u001b[0mbilionarios\u001b[0m\u001b[0;34m[\u001b[0m\u001b[0;34m'Name'\u001b[0m\u001b[0;34m]\u001b[0m\u001b[0;34m)\u001b[0m\u001b[0;34m\u001b[0m\u001b[0;34m\u001b[0m\u001b[0m\n\u001b[0;32m----> 3\u001b[0;31m \u001b[0mdoadores_nome\u001b[0m \u001b[0;34m=\u001b[0m \u001b[0mset\u001b[0m\u001b[0;34m(\u001b[0m\u001b[0mdoadores\u001b[0m\u001b[0;34m[\u001b[0m\u001b[0;34m'NM_DOADOR_ORIGINARIO'\u001b[0m\u001b[0;34m]\u001b[0m\u001b[0;34m)\u001b[0m\u001b[0;34m\u001b[0m\u001b[0;34m\u001b[0m\u001b[0m\n\u001b[0m\u001b[1;32m      4\u001b[0m \u001b[0mbilionarios_doadores\u001b[0m \u001b[0;34m=\u001b[0m \u001b[0mbilionarios_nome\u001b[0m\u001b[0;34m.\u001b[0m\u001b[0mintersection\u001b[0m\u001b[0;34m(\u001b[0m\u001b[0mdoadores_nome\u001b[0m\u001b[0;34m)\u001b[0m\u001b[0;34m\u001b[0m\u001b[0;34m\u001b[0m\u001b[0m\n\u001b[1;32m      5\u001b[0m \u001b[0mprint\u001b[0m\u001b[0;34m(\u001b[0m\u001b[0;34m'\\nBilionarios que foram doadores nas eleiçoes de 2022:'\u001b[0m\u001b[0;34m)\u001b[0m\u001b[0;34m\u001b[0m\u001b[0;34m\u001b[0m\u001b[0m\n",
            "\u001b[0;32m/usr/local/lib/python3.10/dist-packages/pandas/core/frame.py\u001b[0m in \u001b[0;36m__getitem__\u001b[0;34m(self, key)\u001b[0m\n\u001b[1;32m   3759\u001b[0m             \u001b[0;32mif\u001b[0m \u001b[0mself\u001b[0m\u001b[0;34m.\u001b[0m\u001b[0mcolumns\u001b[0m\u001b[0;34m.\u001b[0m\u001b[0mnlevels\u001b[0m \u001b[0;34m>\u001b[0m \u001b[0;36m1\u001b[0m\u001b[0;34m:\u001b[0m\u001b[0;34m\u001b[0m\u001b[0;34m\u001b[0m\u001b[0m\n\u001b[1;32m   3760\u001b[0m                 \u001b[0;32mreturn\u001b[0m \u001b[0mself\u001b[0m\u001b[0;34m.\u001b[0m\u001b[0m_getitem_multilevel\u001b[0m\u001b[0;34m(\u001b[0m\u001b[0mkey\u001b[0m\u001b[0;34m)\u001b[0m\u001b[0;34m\u001b[0m\u001b[0;34m\u001b[0m\u001b[0m\n\u001b[0;32m-> 3761\u001b[0;31m             \u001b[0mindexer\u001b[0m \u001b[0;34m=\u001b[0m \u001b[0mself\u001b[0m\u001b[0;34m.\u001b[0m\u001b[0mcolumns\u001b[0m\u001b[0;34m.\u001b[0m\u001b[0mget_loc\u001b[0m\u001b[0;34m(\u001b[0m\u001b[0mkey\u001b[0m\u001b[0;34m)\u001b[0m\u001b[0;34m\u001b[0m\u001b[0;34m\u001b[0m\u001b[0m\n\u001b[0m\u001b[1;32m   3762\u001b[0m             \u001b[0;32mif\u001b[0m \u001b[0mis_integer\u001b[0m\u001b[0;34m(\u001b[0m\u001b[0mindexer\u001b[0m\u001b[0;34m)\u001b[0m\u001b[0;34m:\u001b[0m\u001b[0;34m\u001b[0m\u001b[0;34m\u001b[0m\u001b[0m\n\u001b[1;32m   3763\u001b[0m                 \u001b[0mindexer\u001b[0m \u001b[0;34m=\u001b[0m \u001b[0;34m[\u001b[0m\u001b[0mindexer\u001b[0m\u001b[0;34m]\u001b[0m\u001b[0;34m\u001b[0m\u001b[0;34m\u001b[0m\u001b[0m\n",
            "\u001b[0;32m/usr/local/lib/python3.10/dist-packages/pandas/core/indexes/base.py\u001b[0m in \u001b[0;36mget_loc\u001b[0;34m(self, key)\u001b[0m\n\u001b[1;32m   3653\u001b[0m             \u001b[0;32mreturn\u001b[0m \u001b[0mself\u001b[0m\u001b[0;34m.\u001b[0m\u001b[0m_engine\u001b[0m\u001b[0;34m.\u001b[0m\u001b[0mget_loc\u001b[0m\u001b[0;34m(\u001b[0m\u001b[0mcasted_key\u001b[0m\u001b[0;34m)\u001b[0m\u001b[0;34m\u001b[0m\u001b[0;34m\u001b[0m\u001b[0m\n\u001b[1;32m   3654\u001b[0m         \u001b[0;32mexcept\u001b[0m \u001b[0mKeyError\u001b[0m \u001b[0;32mas\u001b[0m \u001b[0merr\u001b[0m\u001b[0;34m:\u001b[0m\u001b[0;34m\u001b[0m\u001b[0;34m\u001b[0m\u001b[0m\n\u001b[0;32m-> 3655\u001b[0;31m             \u001b[0;32mraise\u001b[0m \u001b[0mKeyError\u001b[0m\u001b[0;34m(\u001b[0m\u001b[0mkey\u001b[0m\u001b[0;34m)\u001b[0m \u001b[0;32mfrom\u001b[0m \u001b[0merr\u001b[0m\u001b[0;34m\u001b[0m\u001b[0;34m\u001b[0m\u001b[0m\n\u001b[0m\u001b[1;32m   3656\u001b[0m         \u001b[0;32mexcept\u001b[0m \u001b[0mTypeError\u001b[0m\u001b[0;34m:\u001b[0m\u001b[0;34m\u001b[0m\u001b[0;34m\u001b[0m\u001b[0m\n\u001b[1;32m   3657\u001b[0m             \u001b[0;31m# If we have a listlike key, _check_indexing_error will raise\u001b[0m\u001b[0;34m\u001b[0m\u001b[0;34m\u001b[0m\u001b[0m\n",
            "\u001b[0;31mKeyError\u001b[0m: 'NM_DOADOR_ORIGINARIO'"
          ]
        }
      ]
    },
    {
      "cell_type": "markdown",
      "source": [
        "#**4**"
      ],
      "metadata": {
        "id": "yPJ4BsdQjEYf"
      }
    },
    {
      "cell_type": "code",
      "source": [
        "#Criando um filtro para selecionar somente os doadores que são bilionários\n",
        "doadores_bilionarios = doadores[doadores['NM_DOADOR_ORIGINARIO'].isin(bilionarios_doadores)]\n",
        "\n",
        "# Agrupando por candidato, cargo e estado e calculando a soma das doações de cada bilionário\n",
        "doacoes_agrupadas = doadores_bilionarios.groupby(['SQ_PRESTADOR_DE_CONTAS', 'NM_TIPO_ELEICAO', 'SG_UF', 'Nome'])['VR_RECEITA'].sum().reset_index()"
      ],
      "metadata": {
        "id": "rchFOef6RgmF"
      },
      "execution_count": null,
      "outputs": []
    },
    {
      "cell_type": "code",
      "source": [
        "#Ordenando por candidato, cargo, estado e valor da doação\n",
        "doacoes_ordenadas = doacoes_agrupadas.sort_values(by=['SQ_PRESTADOR_DE_CONTAS', 'NM_TIPO_ELEICAO', 'SG_UF', 'VR_RECEITA'], ascending=[True, True, True, False])"
      ],
      "metadata": {
        "id": "Bz0wwDiASmr8"
      },
      "execution_count": null,
      "outputs": []
    },
    {
      "cell_type": "markdown",
      "source": [
        "#**5**"
      ],
      "metadata": {
        "id": "X7HamQwZjHvm"
      }
    },
    {
      "cell_type": "code",
      "source": [
        "# Selecionando os dez maiores doadores para cada candidato, cargo e estado\n",
        "top_10_doadores = doacoes_ordenadas.groupby(['SQ_PRESTADOR_DE_CONTAS', 'NM_TIPO_ELEICAO', 'SG_UF']).head(10)\n",
        "print(\"Dez maiores financiadores bilionários de cada candidato:\")\n",
        "print(top_10_financiadores)"
      ],
      "metadata": {
        "id": "-9ig15dfS0-9"
      },
      "execution_count": null,
      "outputs": []
    }
  ]
}